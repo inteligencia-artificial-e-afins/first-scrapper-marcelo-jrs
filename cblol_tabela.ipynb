{
  "nbformat": 4,
  "nbformat_minor": 0,
  "metadata": {
    "colab": {
      "provenance": []
    },
    "kernelspec": {
      "name": "python3",
      "display_name": "Python 3"
    },
    "language_info": {
      "name": "python"
    }
  },
  "cells": [
    {
      "cell_type": "code",
      "execution_count": 1,
      "metadata": {
        "id": "6oI7-vMNR3ky"
      },
      "outputs": [],
      "source": [
        "import requests\n",
        "\n",
        "from bs4 import BeautifulSoup"
      ]
    },
    {
      "cell_type": "code",
      "source": [
        "url = 'https://lol.fandom.com/wiki/CBLOL/2024_Season/Split_1'"
      ],
      "metadata": {
        "id": "ccgNJ0OgR4fz"
      },
      "execution_count": 2,
      "outputs": []
    },
    {
      "cell_type": "code",
      "source": [
        "page = requests.get(url)"
      ],
      "metadata": {
        "id": "oZLUxkqUR6S0"
      },
      "execution_count": 3,
      "outputs": []
    },
    {
      "cell_type": "code",
      "source": [
        "soup = BeautifulSoup(page.text, 'html')"
      ],
      "metadata": {
        "id": "WT7FodKaR76Y"
      },
      "execution_count": 4,
      "outputs": []
    },
    {
      "cell_type": "code",
      "source": [
        "standings = soup.find(class_='standings')"
      ],
      "metadata": {
        "id": "EbppGsqqR_Hz"
      },
      "execution_count": 6,
      "outputs": []
    },
    {
      "cell_type": "code",
      "source": [
        "print(standings)"
      ],
      "metadata": {
        "colab": {
          "base_uri": "https://localhost:8080/"
        },
        "id": "VQKaP0rgSV3S",
        "outputId": "22578ca7-5dfb-4bd4-df37-4ddd73db372c"
      },
      "execution_count": 7,
      "outputs": [
        {
          "output_type": "stream",
          "name": "stdout",
          "text": [
            "<table class=\"wikitable2 standings\"><tbody><tr><th colspan=\"5\"><div style=\"position:relative\">CBLOL 2024 Split 1 Standings<span><div class=\"popup-button-pretty popup-button-action legend-icon nomobile table-header-rightcontent\"><div class=\"popup-content-wrapper-pretty popup-content-wrapper-action popup-content-hidden\"><div class=\"popup-content-inner-pretty popup-content-inner-action legend-table\" style=\"margin-left:-121px;width:250px\"><table class=\"legend-table\"><tbody><tr><th class=\"legend-header\">Legend</th></tr><tr><td class=\"standings-upwithbye\">Playoffs Round 2 Seed</td></tr><tr><td class=\"standings-up\">Playoffs Round 1 Seed</td></tr><tr><td class=\"standings-stay\">Not Qualified for Playoffs</td></tr></tbody></table></div></div></div></span></div></th></tr><tr><th class=\"column-label-small\" colspan=\"1\"></th><th class=\"column-label-small\" colspan=\"1\">Team</th><th class=\"column-label-small\" colspan=\"2\">Games</th><th class=\"column-label-small\" colspan=\"1\">Str</th></tr><tr class=\"standings-up teamhighlight teamhighlighter\" data-teamhighlight=\"paiN Gaming\"><td class=\"standings-place standings-upwithbye\">1</td><td class=\"standings-team\"><span class=\"team\"><span class=\"teamimage-right\">⁠<a class=\"to_hasTooltip\" data-to-flags=\"fiem\" data-to-id=\"PaiN_Gaming\" data-to-titles=\"PaiN Gaming||Tooltip:PaiN Gaming\" href=\"/wiki/PaiN_Gaming\" title=\"PaiN Gaming\"><img alt=\"PaiN Gaminglogo std\" class=\"dark-logo-std\" data-file-height=\"25\" data-file-width=\"60\" data-image-key=\"Painlogo_std.png\" data-image-name=\"Painlogo std.png\" data-relevant=\"0\" decoding=\"async\" height=\"25\" loading=\"lazy\" src=\"https://static.wikia.nocookie.net/lolesports_gamepedia_en/images/a/a1/Painlogo_std.png/revision/latest?cb=20210521134807\" width=\"60\"/></a>⁠</span><span class=\"teamname\"><a class=\"catlink-teams tWACM tWAFM tWAN to_hasTooltip\" data-to-flags=\"fiem\" data-to-id=\"PaiN_Gaming\" data-to-titles=\"PaiN Gaming||Tooltip:PaiN Gaming\" href=\"/wiki/PaiN_Gaming\" title=\"PaiN Gaming\">paiN Gaming</a></span></span><span><div class=\"popup-button-pretty popup-button-tth popup-button-action popup-button-lazy\" data-parse-text=\"MatchListTournamentTeam|page=CBLOL/2024 Season/Split 1|team=paiN Gaming|display=PNG Schedule\"><div class=\"popup-content-wrapper-pretty popup-content-wrapper-action popup-content-hidden popup-wrapper-tth\"><div class=\"popup-content-inner-pretty popup-content-inner-action popup-content-tth\"></div></div></div></span></td><td>10 - 4</td><td>71%</td><td>1W</td></tr><tr class=\"standings-up teamhighlight teamhighlighter\" data-teamhighlight=\"Vivo Keyd Stars\"><td class=\"standings-place standings-upwithbye\">1</td><td class=\"standings-team\"><span class=\"team\"><span class=\"teamimage-right\">⁠<a class=\"to_hasTooltip\" data-to-flags=\"fiem\" data-to-id=\"Vivo_Keyd_Stars\" data-to-titles=\"Vivo Keyd Stars||Tooltip:Vivo Keyd Stars\" href=\"/wiki/Vivo_Keyd_Stars\" title=\"Vivo Keyd Stars\"><img alt=\"Vivo Keyd Starslogo std\" class=\"dark-logo-std\" data-file-height=\"25\" data-file-width=\"60\" data-image-key=\"Vivo_Keyd_Starslogo_std.png\" data-image-name=\"Vivo Keyd Starslogo std.png\" data-relevant=\"0\" decoding=\"async\" height=\"25\" loading=\"lazy\" src=\"https://static.wikia.nocookie.net/lolesports_gamepedia_en/images/d/d3/Vivo_Keyd_Starslogo_std.png/revision/latest?cb=20221116002741\" width=\"60\"/></a>⁠</span><span class=\"teamname\"><a class=\"catlink-teams tWACM tWAFM tWAN to_hasTooltip\" data-to-flags=\"fiem\" data-to-id=\"Vivo_Keyd_Stars\" data-to-titles=\"Vivo Keyd Stars||Tooltip:Vivo Keyd Stars\" href=\"/wiki/Vivo_Keyd_Stars\" title=\"Vivo Keyd Stars\">Vivo Keyd Stars</a></span></span><span><div class=\"popup-button-pretty popup-button-tth popup-button-action popup-button-lazy\" data-parse-text=\"MatchListTournamentTeam|page=CBLOL/2024 Season/Split 1|team=Vivo Keyd Stars|display=VKS Schedule\"><div class=\"popup-content-wrapper-pretty popup-content-wrapper-action popup-content-hidden popup-wrapper-tth\"><div class=\"popup-content-inner-pretty popup-content-inner-action popup-content-tth\"></div></div></div></span></td><td>10 - 4</td><td>71%</td><td>1L</td></tr><tr class=\"teamhighlight teamhighlighter\" data-teamhighlight=\"LOUD\"><td class=\"standings-place standings-up\">3</td><td class=\"standings-team\"><span class=\"team\"><span class=\"teamimage-right\">⁠<a class=\"to_hasTooltip\" data-to-flags=\"fiem\" data-to-id=\"LOUD\" data-to-titles=\"LOUD||Tooltip:LOUD\" href=\"/wiki/LOUD\" title=\"LOUD\"><img alt=\"LOUDlogo std\" data-file-height=\"25\" data-file-width=\"60\" data-image-key=\"LOUDlogo_std.png\" data-image-name=\"LOUDlogo std.png\" data-relevant=\"0\" decoding=\"async\" height=\"25\" loading=\"lazy\" src=\"https://static.wikia.nocookie.net/lolesports_gamepedia_en/images/b/ba/LOUDlogo_std.png/revision/latest?cb=20201002162300\" width=\"60\"/></a>⁠</span><span class=\"teamname\"><a class=\"catlink-teams tWACM tWAFM tWAN to_hasTooltip\" data-to-flags=\"fiem\" data-to-id=\"LOUD\" data-to-titles=\"LOUD||Tooltip:LOUD\" href=\"/wiki/LOUD\" title=\"LOUD\">LOUD</a></span></span><span><div class=\"popup-button-pretty popup-button-tth popup-button-action popup-button-lazy\" data-parse-text=\"MatchListTournamentTeam|page=CBLOL/2024 Season/Split 1|team=LOUD|display=LLL Schedule\"><div class=\"popup-content-wrapper-pretty popup-content-wrapper-action popup-content-hidden popup-wrapper-tth\"><div class=\"popup-content-inner-pretty popup-content-inner-action popup-content-tth\"></div></div></div></span></td><td>9 - 5</td><td>64%</td><td>2W</td></tr><tr class=\"teamhighlight teamhighlighter\" data-teamhighlight=\"RED Canids\"><td class=\"standings-place standings-up\">3</td><td class=\"standings-team\"><span class=\"team\"><span class=\"teamimage-right\">⁠<a class=\"to_hasTooltip\" data-to-flags=\"fiem\" data-to-id=\"RED_Canids\" data-to-titles=\"RED Canids||Tooltip:RED Canids\" href=\"/wiki/RED_Canids\" title=\"RED Canids\"><img alt=\"RED Canidslogo std\" data-file-height=\"25\" data-file-width=\"60\" data-image-key=\"RED_Canidslogo_std.png\" data-image-name=\"RED Canidslogo std.png\" data-relevant=\"0\" decoding=\"async\" height=\"25\" loading=\"lazy\" src=\"https://static.wikia.nocookie.net/lolesports_gamepedia_en/images/3/30/RED_Canidslogo_std.png/revision/latest?cb=20230426043334\" width=\"60\"/></a>⁠</span><span class=\"teamname\"><a class=\"catlink-teams tWACM tWAFM tWAN to_hasTooltip\" data-to-flags=\"fiem\" data-to-id=\"RED_Canids\" data-to-titles=\"RED Canids||Tooltip:RED Canids\" href=\"/wiki/RED_Canids\" title=\"RED Canids\">RED Canids</a></span></span><span><div class=\"popup-button-pretty popup-button-tth popup-button-action popup-button-lazy\" data-parse-text=\"MatchListTournamentTeam|page=CBLOL/2024 Season/Split 1|team=RED Canids|display=RED Schedule\"><div class=\"popup-content-wrapper-pretty popup-content-wrapper-action popup-content-hidden popup-wrapper-tth\"><div class=\"popup-content-inner-pretty popup-content-inner-action popup-content-tth\"></div></div></div></span></td><td>9 - 5</td><td>64%</td><td>4W</td></tr><tr class=\"teamhighlight teamhighlighter\" data-teamhighlight=\"KaBuM! Esports\"><td class=\"standings-place standings-up\">5</td><td class=\"standings-team\"><span class=\"team\"><span class=\"teamimage-right\">⁠<a class=\"to_hasTooltip\" data-to-flags=\"fiem\" data-to-id=\"KaBuM_21-_Esports\" data-to-titles=\"KaBuM! Esports||Tooltip:KaBuM! Esports\" href=\"/wiki/KaBuM!_Esports\" title=\"KaBuM! Esports\"><img alt=\"KaBuM! Esportslogo std\" data-file-height=\"25\" data-file-width=\"60\" data-image-key=\"KaBuM%21_Esportslogo_std.png\" data-image-name=\"KaBuM! Esportslogo std.png\" data-relevant=\"0\" decoding=\"async\" height=\"25\" loading=\"lazy\" src=\"https://static.wikia.nocookie.net/lolesports_gamepedia_en/images/b/ba/KaBuM%21_Esportslogo_std.png/revision/latest?cb=20221218045942\" width=\"60\"/></a>⁠</span><span class=\"teamname\"><a class=\"catlink-teams tWACM tWAFM tWAN to_hasTooltip\" data-to-flags=\"fiem\" data-to-id=\"KaBuM_21-_Esports\" data-to-titles=\"KaBuM! Esports||Tooltip:KaBuM! Esports\" href=\"/wiki/KaBuM!_Esports\" title=\"KaBuM! Esports\">KaBuM! Esports</a></span></span><span><div class=\"popup-button-pretty popup-button-tth popup-button-action popup-button-lazy\" data-parse-text=\"MatchListTournamentTeam|page=CBLOL/2024 Season/Split 1|team=KaBuM! Esports|display=KBM Schedule\"><div class=\"popup-content-wrapper-pretty popup-content-wrapper-action popup-content-hidden popup-wrapper-tth\"><div class=\"popup-content-inner-pretty popup-content-inner-action popup-content-tth\"></div></div></div></span></td><td>8 - 6</td><td>57%</td><td>4L</td></tr><tr class=\"teamhighlight teamhighlighter\" data-teamhighlight=\"Liberty\"><td class=\"standings-place standings-up\">5</td><td class=\"standings-team\"><span class=\"team\"><span class=\"teamimage-right\">⁠<a class=\"to_hasTooltip\" data-to-flags=\"fiem\" data-to-id=\"Liberty\" data-to-titles=\"Liberty||Tooltip:Liberty\" href=\"/wiki/Liberty\" title=\"Liberty\"><img alt=\"Libertylogo std\" data-file-height=\"25\" data-file-width=\"60\" data-image-key=\"Libertylogo_std.png\" data-image-name=\"Libertylogo std.png\" data-relevant=\"0\" decoding=\"async\" height=\"25\" loading=\"lazy\" src=\"https://static.wikia.nocookie.net/lolesports_gamepedia_en/images/2/23/Libertylogo_std.png/revision/latest?cb=20211216004143\" width=\"60\"/></a>⁠</span><span class=\"teamname\"><a class=\"catlink-teams tWACM tWAFM tWAN to_hasTooltip\" data-to-flags=\"fiem\" data-to-id=\"Liberty\" data-to-titles=\"Liberty||Tooltip:Liberty\" href=\"/wiki/Liberty\" title=\"Liberty\">Liberty</a></span></span><span><div class=\"popup-button-pretty popup-button-tth popup-button-action popup-button-lazy\" data-parse-text=\"MatchListTournamentTeam|page=CBLOL/2024 Season/Split 1|team=Liberty|display=LBR Schedule\"><div class=\"popup-content-wrapper-pretty popup-content-wrapper-action popup-content-hidden popup-wrapper-tth\"><div class=\"popup-content-inner-pretty popup-content-inner-action popup-content-tth\"></div></div></div></span></td><td>8 - 6</td><td>57%</td><td>6W</td></tr><tr class=\"teamhighlight teamhighlighter\" data-teamhighlight=\"Los Grandes\"><td class=\"standings-place standings-stay\">7</td><td class=\"standings-team\"><span class=\"team\"><span class=\"teamimage-right\">⁠<a class=\"to_hasTooltip\" data-to-flags=\"fiem\" data-to-id=\"Los_Grandes\" data-to-titles=\"Los Grandes||Tooltip:Los Grandes\" href=\"/wiki/Los_Grandes\" title=\"Los Grandes\"><img alt=\"Los Grandeslogo std\" class=\"black-logo-std\" data-file-height=\"25\" data-file-width=\"60\" data-image-key=\"Los_Grandeslogo_std.png\" data-image-name=\"Los Grandeslogo std.png\" data-relevant=\"0\" decoding=\"async\" height=\"25\" loading=\"lazy\" src=\"https://static.wikia.nocookie.net/lolesports_gamepedia_en/images/4/4e/Los_Grandeslogo_std.png/revision/latest?cb=20230608222225\" width=\"60\"/></a>⁠</span><span class=\"teamname\"><a class=\"catlink-teams tWACM tWAFM tWAN to_hasTooltip\" data-to-flags=\"fiem\" data-to-id=\"Los_Grandes\" data-to-titles=\"Los Grandes||Tooltip:Los Grandes\" href=\"/wiki/Los_Grandes\" title=\"Los Grandes\">Los Grandes</a></span></span><span><div class=\"popup-button-pretty popup-button-tth popup-button-action popup-button-lazy\" data-parse-text=\"MatchListTournamentTeam|page=CBLOL/2024 Season/Split 1|team=Los Grandes|display=LOS Schedule\"><div class=\"popup-content-wrapper-pretty popup-content-wrapper-action popup-content-hidden popup-wrapper-tth\"><div class=\"popup-content-inner-pretty popup-content-inner-action popup-content-tth\"></div></div></div></span></td><td>6 - 8</td><td>43%</td><td>1L</td></tr><tr class=\"teamhighlight teamhighlighter\" data-teamhighlight=\"Fluxo\"><td class=\"standings-place standings-stay\">8</td><td class=\"standings-team\"><span class=\"team\"><span class=\"teamimage-right\">⁠<a class=\"to_hasTooltip\" data-to-flags=\"fiem\" data-to-id=\"Fluxo\" data-to-titles=\"Fluxo||Tooltip:Fluxo\" href=\"/wiki/Fluxo\" title=\"Fluxo\"><img alt=\"Fluxologo std\" data-file-height=\"25\" data-file-width=\"60\" data-image-key=\"Fluxologo_std.png\" data-image-name=\"Fluxologo std.png\" data-relevant=\"0\" decoding=\"async\" height=\"25\" loading=\"lazy\" src=\"https://static.wikia.nocookie.net/lolesports_gamepedia_en/images/3/3d/Fluxologo_std.png/revision/latest?cb=20240218164404\" width=\"60\"/></a>⁠</span><span class=\"teamname\"><a class=\"catlink-teams tWACM tWAFM tWAN to_hasTooltip\" data-to-flags=\"fiem\" data-to-id=\"Fluxo\" data-to-titles=\"Fluxo||Tooltip:Fluxo\" href=\"/wiki/Fluxo\" title=\"Fluxo\">Fluxo</a></span></span><span><div class=\"popup-button-pretty popup-button-tth popup-button-action popup-button-lazy\" data-parse-text=\"MatchListTournamentTeam|page=CBLOL/2024 Season/Split 1|team=Fluxo|display=FX Schedule\"><div class=\"popup-content-wrapper-pretty popup-content-wrapper-action popup-content-hidden popup-wrapper-tth\"><div class=\"popup-content-inner-pretty popup-content-inner-action popup-content-tth\"></div></div></div></span></td><td>5 - 9</td><td>36%</td><td>2L</td></tr><tr class=\"teamhighlight teamhighlighter\" data-teamhighlight=\"FURIA\"><td class=\"standings-place standings-stay\">9</td><td class=\"standings-team\"><span class=\"team\"><span class=\"teamimage-right\">⁠<a class=\"to_hasTooltip\" data-to-flags=\"fiem\" data-to-id=\"FURIA\" data-to-titles=\"FURIA||Tooltip:FURIA\" href=\"/wiki/FURIA\" title=\"FURIA\"><img alt=\"FURIAlogo std\" data-file-height=\"25\" data-file-width=\"60\" data-image-key=\"FURIAlogo_std.png\" data-image-name=\"FURIAlogo std.png\" data-relevant=\"0\" decoding=\"async\" height=\"25\" loading=\"lazy\" src=\"https://static.wikia.nocookie.net/lolesports_gamepedia_en/images/a/a0/FURIAlogo_std.png/revision/latest?cb=20200121190808\" width=\"60\"/></a>⁠</span><span class=\"teamname\"><a class=\"catlink-teams tWACM tWAFM tWAN to_hasTooltip\" data-to-flags=\"fiem\" data-to-id=\"FURIA\" data-to-titles=\"FURIA||Tooltip:FURIA\" href=\"/wiki/FURIA\" title=\"FURIA\">FURIA</a></span></span><span><div class=\"popup-button-pretty popup-button-tth popup-button-action popup-button-lazy\" data-parse-text=\"MatchListTournamentTeam|page=CBLOL/2024 Season/Split 1|team=FURIA|display=FUR Schedule\"><div class=\"popup-content-wrapper-pretty popup-content-wrapper-action popup-content-hidden popup-wrapper-tth\"><div class=\"popup-content-inner-pretty popup-content-inner-action popup-content-tth\"></div></div></div></span></td><td>4 - 10</td><td>29%</td><td>1W</td></tr><tr class=\"standings-stay teamhighlight teamhighlighter\" data-teamhighlight=\"INTZ\"><td class=\"standings-place standings-stay\">10</td><td class=\"standings-team\"><span class=\"team\"><span class=\"teamimage-right\">⁠<a class=\"to_hasTooltip\" data-to-flags=\"fiem\" data-to-id=\"INTZ\" data-to-titles=\"INTZ||Tooltip:INTZ\" href=\"/wiki/INTZ\" title=\"INTZ\"><img alt=\"INTZlogo std\" data-file-height=\"25\" data-file-width=\"60\" data-image-key=\"INTZlogo_std.png\" data-image-name=\"INTZlogo std.png\" data-relevant=\"0\" decoding=\"async\" height=\"25\" loading=\"lazy\" src=\"https://static.wikia.nocookie.net/lolesports_gamepedia_en/images/e/e7/INTZlogo_std.png/revision/latest?cb=20200210222831\" width=\"60\"/></a>⁠</span><span class=\"teamname\"><a class=\"catlink-teams tWACM tWAFM tWAN to_hasTooltip\" data-to-flags=\"fiem\" data-to-id=\"INTZ\" data-to-titles=\"INTZ||Tooltip:INTZ\" href=\"/wiki/INTZ\" title=\"INTZ\">INTZ</a></span></span><span><div class=\"popup-button-pretty popup-button-tth popup-button-action popup-button-lazy\" data-parse-text=\"MatchListTournamentTeam|page=CBLOL/2024 Season/Split 1|team=INTZ|display=ITZ Schedule\"><div class=\"popup-content-wrapper-pretty popup-content-wrapper-action popup-content-hidden popup-wrapper-tth\"><div class=\"popup-content-inner-pretty popup-content-inner-action popup-content-tth\"></div></div></div></span></td><td>1 - 13</td><td>7%</td><td>12L</td></tr></tbody></table>\n"
          ]
        }
      ]
    }
  ]
}